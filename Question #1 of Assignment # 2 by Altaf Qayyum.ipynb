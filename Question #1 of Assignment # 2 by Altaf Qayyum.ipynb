{
 "cells": [
  {
   "cell_type": "code",
   "execution_count": 38,
   "metadata": {},
   "outputs": [
    {
     "name": "stdout",
     "output_type": "stream",
     "text": [
      " Please Enter the Marks obtained in Physics :85\n",
      " Please Enter the Marks obtained in Chemistry :75\n",
      " Please Enter the Marks obtained in Mathametics :72\n",
      " Please Enter the Marks obtained in Biology :65\n",
      " Please Enter the Marks obtained in Economics :66\n",
      "Grade = C\n"
     ]
    }
   ],
   "source": [
    "Physics = int (input (\" Please Enter the Marks obtained in Physics :\"))\n",
    "Chemistry = int (input (\" Please Enter the Marks obtained in Chemistry :\"))\n",
    "Mathametics = int (input (\" Please Enter the Marks obtained in Mathametics :\"))\n",
    "Biology = int (input (\" Please Enter the Marks obtained in Biology :\"))\n",
    "Economics = int (input (\" Please Enter the Marks obtained in Economics :\"))\n",
    "AverageMarks = int  (Physics+Chemistry+Mathametics+Biology+Economics) / 5\n",
    "if (AverageMarks >=90):\n",
    " print (\"Grade = A\")\n",
    "elif(AverageMarks>=80 and AverageMarks<90):\n",
    "   print (\"Grade = B\")\n",
    "elif(AverageMarks>=70 and AverageMarks<80):\n",
    "    print (\"Grade = C\")\n",
    "elif(AverageMarks>=60 and AverageMarks<70):\n",
    "    print (\"Grade = D\")\n"
   ]
  },
  {
   "cell_type": "code",
   "execution_count": null,
   "metadata": {},
   "outputs": [],
   "source": []
  },
  {
   "cell_type": "code",
   "execution_count": null,
   "metadata": {},
   "outputs": [],
   "source": []
  }
 ],
 "metadata": {
  "kernelspec": {
   "display_name": "Python 3",
   "language": "python",
   "name": "python3"
  },
  "language_info": {
   "codemirror_mode": {
    "name": "ipython",
    "version": 3
   },
   "file_extension": ".py",
   "mimetype": "text/x-python",
   "name": "python",
   "nbconvert_exporter": "python",
   "pygments_lexer": "ipython3",
   "version": "3.7.4"
  }
 },
 "nbformat": 4,
 "nbformat_minor": 2
}
